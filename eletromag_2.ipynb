{
 "cells": [
  {
   "cell_type": "code",
   "execution_count": 1,
   "metadata": {},
   "outputs": [],
   "source": [
    "import matplotlib.pyplot as plt \n",
    "import numpy as np"
   ]
  },
  {
   "cell_type": "code",
   "execution_count": 2,
   "metadata": {},
   "outputs": [],
   "source": [
    "X = np.array([1.8,3.9,6.0,8.2,10.3,12.4,14.6,16.7,18.8,21.0])\n",
    "Y = np.array([2.73,5.71,8.76,11.8,14.86,17.9,21.1,24.0,27.0,29.8])"
   ]
  },
  {
   "cell_type": "code",
   "execution_count": 3,
   "metadata": {},
   "outputs": [
    {
     "name": "stdout",
     "output_type": "stream",
     "text": [
      "[ 1.8  3.9  6.   8.2 10.3 12.4 14.6 16.7 18.8 21. ]\n"
     ]
    }
   ],
   "source": [
    "print(X)"
   ]
  },
  {
   "cell_type": "code",
   "execution_count": 4,
   "metadata": {},
   "outputs": [
    {
     "name": "stdout",
     "output_type": "stream",
     "text": [
      "[ 2.73  5.71  8.76 11.8  14.86 17.9  21.1  24.   27.   29.8 ]\n"
     ]
    }
   ],
   "source": [
    "print(Y)"
   ]
  },
  {
   "cell_type": "code",
   "execution_count": 5,
   "metadata": {},
   "outputs": [
    {
     "name": "stdout",
     "output_type": "stream",
     "text": [
      "[1.4202563  0.21768585]\n"
     ]
    }
   ],
   "source": [
    "mod_linear = np.polyfit(X, Y , 1) \n",
    "print(mod_linear)"
   ]
  },
  {
   "cell_type": "code",
   "execution_count": 6,
   "metadata": {},
   "outputs": [],
   "source": [
    "#y = ax+b\n",
    "a = float(mod_linear[0])\n",
    "b = float(mod_linear[1])"
   ]
  },
  {
   "cell_type": "code",
   "execution_count": 7,
   "metadata": {},
   "outputs": [
    {
     "name": "stdout",
     "output_type": "stream",
     "text": [
      "1.4202563016140768\n"
     ]
    }
   ],
   "source": [
    "print(a)"
   ]
  },
  {
   "cell_type": "code",
   "execution_count": 8,
   "metadata": {},
   "outputs": [
    {
     "name": "stdout",
     "output_type": "stream",
     "text": [
      "0.21768585064794796\n"
     ]
    }
   ],
   "source": [
    "print(b)"
   ]
  },
  {
   "cell_type": "code",
   "execution_count": 9,
   "metadata": {},
   "outputs": [
    {
     "name": "stdout",
     "output_type": "stream",
     "text": [
      "[ 2.77414719  5.75668543  8.73922366 11.86378752 14.84632576 17.82886399\n",
      " 20.95342785 23.93596609 26.91850432 30.04306818]\n"
     ]
    }
   ],
   "source": [
    "y_mod = a*X + b\n",
    "print(y_mod)"
   ]
  },
  {
   "cell_type": "code",
   "execution_count": 19,
   "metadata": {},
   "outputs": [
    {
     "name": "stderr",
     "output_type": "stream",
     "text": [
      "No handles with labels found to put in legend.\n"
     ]
    },
    {
     "data": {
      "image/png": "[encoded data removed]",
      "text/plain": [
       "<Figure size 576x576 with 1 Axes>"
      ]
     },
     "metadata": {
      "needs_background": "light"
     },
     "output_type": "display_data"
    }
   ],
   "source": [
    "plt.figure( figsize=(8,8))\n",
    "plt.plot(X,Y, \"o\", )\n",
    "plt.plot(X,y_mod, \"-y\")\n",
    "plt.xlabel(\"Tensão Alternada (V)\")\n",
    "plt.ylabel(\"Tensão Contínua (V)\")\n",
    "\n",
    "plt.legend()\n",
    "plt.show()"
   ]
  },
  {
   "cell_type": "code",
   "execution_count": 44,
   "metadata": {},
   "outputs": [
    {
     "name": "stdout",
     "output_type": "stream",
     "text": [
      "coeficiente de determinação do ajuste é 0.9999\n"
     ]
    }
   ],
   "source": [
    "#R²\n",
    "yresid = Y - y_mod\n",
    "SQresid = sum(yresid**2)\n",
    "y_tot = Y- np.mean(Y)\n",
    "SQtotal = sum(y_tot**2)\n",
    "R2 = 1 - SQresid/SQtotal\n",
    "print ('coeficiente de determinação do ajuste é {:.4f}'.format(R2))"
   ]
  },
  {
   "cell_type": "code",
   "execution_count": 5,
   "metadata": {},
   "outputs": [],
   "source": [
    "#v_n = valor nominal\n",
    "#v_m = valor medido\n",
    "v_n = np.array([47,100,150,470])\n",
    "v_m = np.array([47.9,99.5,150.5,468])\n"
   ]
  },
  {
   "cell_type": "code",
   "execution_count": 9,
   "metadata": {},
   "outputs": [
    {
     "name": "stdout",
     "output_type": "stream",
     "text": [
      "[1.91489362 0.5        0.33333333 0.42553191]\n"
     ]
    }
   ],
   "source": [
    "porc_e = 100*(np.sqrt((v_m - v_n)**2)/v_n)\n",
    "print(porc_e)"
   ]
  }
 ],
 "metadata": {
  "interpreter": {
   "hash": "8ab0d968002a578cf1e1aa041721a175249ba338f6da29efa5ef1a380c630376"
  },
  "kernelspec": {
   "display_name": "Python 3.8.5 64-bit ('base': conda)",
   "language": "python",
   "name": "python3"
  },
  "language_info": {
   "codemirror_mode": {
    "name": "ipython",
    "version": 3
   },
   "file_extension": ".py",
   "mimetype": "text/x-python",
   "name": "python",
   "nbconvert_exporter": "python",
   "pygments_lexer": "ipython3",
   "version": "3.8.5"
  },
  "orig_nbformat": 4
 },
 "nbformat": 4,
 "nbformat_minor": 2
}
